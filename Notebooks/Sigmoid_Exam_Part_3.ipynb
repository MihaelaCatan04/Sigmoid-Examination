{
  "nbformat": 4,
  "nbformat_minor": 0,
  "metadata": {
    "colab": {
      "provenance": []
    },
    "kernelspec": {
      "name": "python3",
      "display_name": "Python 3"
    },
    "language_info": {
      "name": "python"
    }
  },
  "cells": [
    {
      "cell_type": "markdown",
      "source": [
        "# Sigmoid Exam Part 3"
      ],
      "metadata": {
        "id": "6jHu5dDemVNB"
      }
    },
    {
      "cell_type": "markdown",
      "source": [
        "\n",
        "## Data Importation"
      ],
      "metadata": {
        "id": "NlWuu1zZmaIQ"
      }
    },
    {
      "cell_type": "markdown",
      "source": [
        "Connect to Google Drive."
      ],
      "metadata": {
        "id": "EPPjS0RbmhTl"
      }
    },
    {
      "cell_type": "code",
      "source": [
        "from google.colab import drive\n",
        "drive.mount('/content/drive')"
      ],
      "metadata": {
        "colab": {
          "base_uri": "https://localhost:8080/"
        },
        "id": "OUu3H-gwmgsz",
        "outputId": "3d427a07-5f95-4ce3-d91e-079e626bd144"
      },
      "execution_count": null,
      "outputs": [
        {
          "output_type": "stream",
          "name": "stdout",
          "text": [
            "Mounted at /content/drive\n"
          ]
        }
      ]
    },
    {
      "cell_type": "markdown",
      "source": [
        "Import some important libraries:"
      ],
      "metadata": {
        "id": "4zfIz70Smr9g"
      }
    },
    {
      "cell_type": "code",
      "source": [
        "import pandas as pd\n",
        "import numpy as np\n",
        "import matplotlib.pyplot as plt"
      ],
      "metadata": {
        "id": "j-8-qrBsmuC8"
      },
      "execution_count": 2,
      "outputs": []
    },
    {
      "cell_type": "code",
      "execution_count": 3,
      "metadata": {
        "id": "0RITE50I8ZtE",
        "colab": {
          "base_uri": "https://localhost:8080/",
          "height": 359
        },
        "outputId": "8d8f5aff-2220-4bf7-c98f-88851f72441a"
      },
      "outputs": [
        {
          "output_type": "execute_result",
          "data": {
            "text/plain": [
              "   Unnamed: 0                             title  age_rating  mac_support  \\\n",
              "0           0                  Counter-Strike 2           0            0   \n",
              "1           1                            Dota 2           0            1   \n",
              "2           2  Ghost of Tsushima DIRECTOR'S CUT           1            0   \n",
              "3           3                        ELDEN RING           1            0   \n",
              "4           4                         Destiny 2           1            0   \n",
              "\n",
              "   linux_support  awards  overall_review_%  overall_review_count  Strategy  \\\n",
              "0              1       1              87.0             8062218.0         0   \n",
              "1              1       0              81.0             2243112.0         1   \n",
              "2              0       0              89.0               12294.0         0   \n",
              "3              0       6              93.0              605191.0         0   \n",
              "4              0       0              80.0              594713.0         0   \n",
              "\n",
              "   Racing  ...  release_year_category_Bin_3  release_year_category_Bin_4  \\\n",
              "0       0  ...                            1                            0   \n",
              "1       0  ...                            1                            0   \n",
              "2       0  ...                            0                            1   \n",
              "3       0  ...                            0                            1   \n",
              "4       0  ...                            0                            1   \n",
              "\n",
              "   average_developer_rating_category_Bin_1  \\\n",
              "0                                        0   \n",
              "1                                        0   \n",
              "2                                        0   \n",
              "3                                        0   \n",
              "4                                        0   \n",
              "\n",
              "   average_developer_rating_category_Bin_2  \\\n",
              "0                                        0   \n",
              "1                                        0   \n",
              "2                                        0   \n",
              "3                                        0   \n",
              "4                                        0   \n",
              "\n",
              "   average_developer_rating_category_Bin_3  \\\n",
              "0                                        0   \n",
              "1                                        0   \n",
              "2                                        1   \n",
              "3                                        0   \n",
              "4                                        1   \n",
              "\n",
              "   average_developer_rating_category_Bin_4  \\\n",
              "0                                        1   \n",
              "1                                        1   \n",
              "2                                        0   \n",
              "3                                        1   \n",
              "4                                        0   \n",
              "\n",
              "   average_publisher_rating_category_Bin_1  \\\n",
              "0                                        0   \n",
              "1                                        0   \n",
              "2                                        0   \n",
              "3                                        0   \n",
              "4                                        0   \n",
              "\n",
              "   average_publisher_rating_category_Bin_2  \\\n",
              "0                                        0   \n",
              "1                                        0   \n",
              "2                                        0   \n",
              "3                                        0   \n",
              "4                                        0   \n",
              "\n",
              "   average_publisher_rating_category_Bin_3  \\\n",
              "0                                        0   \n",
              "1                                        0   \n",
              "2                                        0   \n",
              "3                                        0   \n",
              "4                                        1   \n",
              "\n",
              "   average_publisher_rating_category_Bin_4  \n",
              "0                                        1  \n",
              "1                                        1  \n",
              "2                                        1  \n",
              "3                                        1  \n",
              "4                                        0  \n",
              "\n",
              "[5 rows x 91 columns]"
            ],
            "text/html": [
              "\n",
              "  <div id=\"df-68f85b19-d8a5-465b-96fd-adb5d58cc33b\" class=\"colab-df-container\">\n",
              "    <div>\n",
              "<style scoped>\n",
              "    .dataframe tbody tr th:only-of-type {\n",
              "        vertical-align: middle;\n",
              "    }\n",
              "\n",
              "    .dataframe tbody tr th {\n",
              "        vertical-align: top;\n",
              "    }\n",
              "\n",
              "    .dataframe thead th {\n",
              "        text-align: right;\n",
              "    }\n",
              "</style>\n",
              "<table border=\"1\" class=\"dataframe\">\n",
              "  <thead>\n",
              "    <tr style=\"text-align: right;\">\n",
              "      <th></th>\n",
              "      <th>Unnamed: 0</th>\n",
              "      <th>title</th>\n",
              "      <th>age_rating</th>\n",
              "      <th>mac_support</th>\n",
              "      <th>linux_support</th>\n",
              "      <th>awards</th>\n",
              "      <th>overall_review_%</th>\n",
              "      <th>overall_review_count</th>\n",
              "      <th>Strategy</th>\n",
              "      <th>Racing</th>\n",
              "      <th>...</th>\n",
              "      <th>release_year_category_Bin_3</th>\n",
              "      <th>release_year_category_Bin_4</th>\n",
              "      <th>average_developer_rating_category_Bin_1</th>\n",
              "      <th>average_developer_rating_category_Bin_2</th>\n",
              "      <th>average_developer_rating_category_Bin_3</th>\n",
              "      <th>average_developer_rating_category_Bin_4</th>\n",
              "      <th>average_publisher_rating_category_Bin_1</th>\n",
              "      <th>average_publisher_rating_category_Bin_2</th>\n",
              "      <th>average_publisher_rating_category_Bin_3</th>\n",
              "      <th>average_publisher_rating_category_Bin_4</th>\n",
              "    </tr>\n",
              "  </thead>\n",
              "  <tbody>\n",
              "    <tr>\n",
              "      <th>0</th>\n",
              "      <td>0</td>\n",
              "      <td>Counter-Strike 2</td>\n",
              "      <td>0</td>\n",
              "      <td>0</td>\n",
              "      <td>1</td>\n",
              "      <td>1</td>\n",
              "      <td>87.0</td>\n",
              "      <td>8062218.0</td>\n",
              "      <td>0</td>\n",
              "      <td>0</td>\n",
              "      <td>...</td>\n",
              "      <td>1</td>\n",
              "      <td>0</td>\n",
              "      <td>0</td>\n",
              "      <td>0</td>\n",
              "      <td>0</td>\n",
              "      <td>1</td>\n",
              "      <td>0</td>\n",
              "      <td>0</td>\n",
              "      <td>0</td>\n",
              "      <td>1</td>\n",
              "    </tr>\n",
              "    <tr>\n",
              "      <th>1</th>\n",
              "      <td>1</td>\n",
              "      <td>Dota 2</td>\n",
              "      <td>0</td>\n",
              "      <td>1</td>\n",
              "      <td>1</td>\n",
              "      <td>0</td>\n",
              "      <td>81.0</td>\n",
              "      <td>2243112.0</td>\n",
              "      <td>1</td>\n",
              "      <td>0</td>\n",
              "      <td>...</td>\n",
              "      <td>1</td>\n",
              "      <td>0</td>\n",
              "      <td>0</td>\n",
              "      <td>0</td>\n",
              "      <td>0</td>\n",
              "      <td>1</td>\n",
              "      <td>0</td>\n",
              "      <td>0</td>\n",
              "      <td>0</td>\n",
              "      <td>1</td>\n",
              "    </tr>\n",
              "    <tr>\n",
              "      <th>2</th>\n",
              "      <td>2</td>\n",
              "      <td>Ghost of Tsushima DIRECTOR'S CUT</td>\n",
              "      <td>1</td>\n",
              "      <td>0</td>\n",
              "      <td>0</td>\n",
              "      <td>0</td>\n",
              "      <td>89.0</td>\n",
              "      <td>12294.0</td>\n",
              "      <td>0</td>\n",
              "      <td>0</td>\n",
              "      <td>...</td>\n",
              "      <td>0</td>\n",
              "      <td>1</td>\n",
              "      <td>0</td>\n",
              "      <td>0</td>\n",
              "      <td>1</td>\n",
              "      <td>0</td>\n",
              "      <td>0</td>\n",
              "      <td>0</td>\n",
              "      <td>0</td>\n",
              "      <td>1</td>\n",
              "    </tr>\n",
              "    <tr>\n",
              "      <th>3</th>\n",
              "      <td>3</td>\n",
              "      <td>ELDEN RING</td>\n",
              "      <td>1</td>\n",
              "      <td>0</td>\n",
              "      <td>0</td>\n",
              "      <td>6</td>\n",
              "      <td>93.0</td>\n",
              "      <td>605191.0</td>\n",
              "      <td>0</td>\n",
              "      <td>0</td>\n",
              "      <td>...</td>\n",
              "      <td>0</td>\n",
              "      <td>1</td>\n",
              "      <td>0</td>\n",
              "      <td>0</td>\n",
              "      <td>0</td>\n",
              "      <td>1</td>\n",
              "      <td>0</td>\n",
              "      <td>0</td>\n",
              "      <td>0</td>\n",
              "      <td>1</td>\n",
              "    </tr>\n",
              "    <tr>\n",
              "      <th>4</th>\n",
              "      <td>4</td>\n",
              "      <td>Destiny 2</td>\n",
              "      <td>1</td>\n",
              "      <td>0</td>\n",
              "      <td>0</td>\n",
              "      <td>0</td>\n",
              "      <td>80.0</td>\n",
              "      <td>594713.0</td>\n",
              "      <td>0</td>\n",
              "      <td>0</td>\n",
              "      <td>...</td>\n",
              "      <td>0</td>\n",
              "      <td>1</td>\n",
              "      <td>0</td>\n",
              "      <td>0</td>\n",
              "      <td>1</td>\n",
              "      <td>0</td>\n",
              "      <td>0</td>\n",
              "      <td>0</td>\n",
              "      <td>1</td>\n",
              "      <td>0</td>\n",
              "    </tr>\n",
              "  </tbody>\n",
              "</table>\n",
              "<p>5 rows × 91 columns</p>\n",
              "</div>\n",
              "    <div class=\"colab-df-buttons\">\n",
              "\n",
              "  <div class=\"colab-df-container\">\n",
              "    <button class=\"colab-df-convert\" onclick=\"convertToInteractive('df-68f85b19-d8a5-465b-96fd-adb5d58cc33b')\"\n",
              "            title=\"Convert this dataframe to an interactive table.\"\n",
              "            style=\"display:none;\">\n",
              "\n",
              "  <svg xmlns=\"http://www.w3.org/2000/svg\" height=\"24px\" viewBox=\"0 -960 960 960\">\n",
              "    <path d=\"M120-120v-720h720v720H120Zm60-500h600v-160H180v160Zm220 220h160v-160H400v160Zm0 220h160v-160H400v160ZM180-400h160v-160H180v160Zm440 0h160v-160H620v160ZM180-180h160v-160H180v160Zm440 0h160v-160H620v160Z\"/>\n",
              "  </svg>\n",
              "    </button>\n",
              "\n",
              "  <style>\n",
              "    .colab-df-container {\n",
              "      display:flex;\n",
              "      gap: 12px;\n",
              "    }\n",
              "\n",
              "    .colab-df-convert {\n",
              "      background-color: #E8F0FE;\n",
              "      border: none;\n",
              "      border-radius: 50%;\n",
              "      cursor: pointer;\n",
              "      display: none;\n",
              "      fill: #1967D2;\n",
              "      height: 32px;\n",
              "      padding: 0 0 0 0;\n",
              "      width: 32px;\n",
              "    }\n",
              "\n",
              "    .colab-df-convert:hover {\n",
              "      background-color: #E2EBFA;\n",
              "      box-shadow: 0px 1px 2px rgba(60, 64, 67, 0.3), 0px 1px 3px 1px rgba(60, 64, 67, 0.15);\n",
              "      fill: #174EA6;\n",
              "    }\n",
              "\n",
              "    .colab-df-buttons div {\n",
              "      margin-bottom: 4px;\n",
              "    }\n",
              "\n",
              "    [theme=dark] .colab-df-convert {\n",
              "      background-color: #3B4455;\n",
              "      fill: #D2E3FC;\n",
              "    }\n",
              "\n",
              "    [theme=dark] .colab-df-convert:hover {\n",
              "      background-color: #434B5C;\n",
              "      box-shadow: 0px 1px 3px 1px rgba(0, 0, 0, 0.15);\n",
              "      filter: drop-shadow(0px 1px 2px rgba(0, 0, 0, 0.3));\n",
              "      fill: #FFFFFF;\n",
              "    }\n",
              "  </style>\n",
              "\n",
              "    <script>\n",
              "      const buttonEl =\n",
              "        document.querySelector('#df-68f85b19-d8a5-465b-96fd-adb5d58cc33b button.colab-df-convert');\n",
              "      buttonEl.style.display =\n",
              "        google.colab.kernel.accessAllowed ? 'block' : 'none';\n",
              "\n",
              "      async function convertToInteractive(key) {\n",
              "        const element = document.querySelector('#df-68f85b19-d8a5-465b-96fd-adb5d58cc33b');\n",
              "        const dataTable =\n",
              "          await google.colab.kernel.invokeFunction('convertToInteractive',\n",
              "                                                    [key], {});\n",
              "        if (!dataTable) return;\n",
              "\n",
              "        const docLinkHtml = 'Like what you see? Visit the ' +\n",
              "          '<a target=\"_blank\" href=https://colab.research.google.com/notebooks/data_table.ipynb>data table notebook</a>'\n",
              "          + ' to learn more about interactive tables.';\n",
              "        element.innerHTML = '';\n",
              "        dataTable['output_type'] = 'display_data';\n",
              "        await google.colab.output.renderOutput(dataTable, element);\n",
              "        const docLink = document.createElement('div');\n",
              "        docLink.innerHTML = docLinkHtml;\n",
              "        element.appendChild(docLink);\n",
              "      }\n",
              "    </script>\n",
              "  </div>\n",
              "\n",
              "\n",
              "<div id=\"df-a22d1ac9-b06f-42ca-9cf1-9d3cdba5c085\">\n",
              "  <button class=\"colab-df-quickchart\" onclick=\"quickchart('df-a22d1ac9-b06f-42ca-9cf1-9d3cdba5c085')\"\n",
              "            title=\"Suggest charts\"\n",
              "            style=\"display:none;\">\n",
              "\n",
              "<svg xmlns=\"http://www.w3.org/2000/svg\" height=\"24px\"viewBox=\"0 0 24 24\"\n",
              "     width=\"24px\">\n",
              "    <g>\n",
              "        <path d=\"M19 3H5c-1.1 0-2 .9-2 2v14c0 1.1.9 2 2 2h14c1.1 0 2-.9 2-2V5c0-1.1-.9-2-2-2zM9 17H7v-7h2v7zm4 0h-2V7h2v10zm4 0h-2v-4h2v4z\"/>\n",
              "    </g>\n",
              "</svg>\n",
              "  </button>\n",
              "\n",
              "<style>\n",
              "  .colab-df-quickchart {\n",
              "      --bg-color: #E8F0FE;\n",
              "      --fill-color: #1967D2;\n",
              "      --hover-bg-color: #E2EBFA;\n",
              "      --hover-fill-color: #174EA6;\n",
              "      --disabled-fill-color: #AAA;\n",
              "      --disabled-bg-color: #DDD;\n",
              "  }\n",
              "\n",
              "  [theme=dark] .colab-df-quickchart {\n",
              "      --bg-color: #3B4455;\n",
              "      --fill-color: #D2E3FC;\n",
              "      --hover-bg-color: #434B5C;\n",
              "      --hover-fill-color: #FFFFFF;\n",
              "      --disabled-bg-color: #3B4455;\n",
              "      --disabled-fill-color: #666;\n",
              "  }\n",
              "\n",
              "  .colab-df-quickchart {\n",
              "    background-color: var(--bg-color);\n",
              "    border: none;\n",
              "    border-radius: 50%;\n",
              "    cursor: pointer;\n",
              "    display: none;\n",
              "    fill: var(--fill-color);\n",
              "    height: 32px;\n",
              "    padding: 0;\n",
              "    width: 32px;\n",
              "  }\n",
              "\n",
              "  .colab-df-quickchart:hover {\n",
              "    background-color: var(--hover-bg-color);\n",
              "    box-shadow: 0 1px 2px rgba(60, 64, 67, 0.3), 0 1px 3px 1px rgba(60, 64, 67, 0.15);\n",
              "    fill: var(--button-hover-fill-color);\n",
              "  }\n",
              "\n",
              "  .colab-df-quickchart-complete:disabled,\n",
              "  .colab-df-quickchart-complete:disabled:hover {\n",
              "    background-color: var(--disabled-bg-color);\n",
              "    fill: var(--disabled-fill-color);\n",
              "    box-shadow: none;\n",
              "  }\n",
              "\n",
              "  .colab-df-spinner {\n",
              "    border: 2px solid var(--fill-color);\n",
              "    border-color: transparent;\n",
              "    border-bottom-color: var(--fill-color);\n",
              "    animation:\n",
              "      spin 1s steps(1) infinite;\n",
              "  }\n",
              "\n",
              "  @keyframes spin {\n",
              "    0% {\n",
              "      border-color: transparent;\n",
              "      border-bottom-color: var(--fill-color);\n",
              "      border-left-color: var(--fill-color);\n",
              "    }\n",
              "    20% {\n",
              "      border-color: transparent;\n",
              "      border-left-color: var(--fill-color);\n",
              "      border-top-color: var(--fill-color);\n",
              "    }\n",
              "    30% {\n",
              "      border-color: transparent;\n",
              "      border-left-color: var(--fill-color);\n",
              "      border-top-color: var(--fill-color);\n",
              "      border-right-color: var(--fill-color);\n",
              "    }\n",
              "    40% {\n",
              "      border-color: transparent;\n",
              "      border-right-color: var(--fill-color);\n",
              "      border-top-color: var(--fill-color);\n",
              "    }\n",
              "    60% {\n",
              "      border-color: transparent;\n",
              "      border-right-color: var(--fill-color);\n",
              "    }\n",
              "    80% {\n",
              "      border-color: transparent;\n",
              "      border-right-color: var(--fill-color);\n",
              "      border-bottom-color: var(--fill-color);\n",
              "    }\n",
              "    90% {\n",
              "      border-color: transparent;\n",
              "      border-bottom-color: var(--fill-color);\n",
              "    }\n",
              "  }\n",
              "</style>\n",
              "\n",
              "  <script>\n",
              "    async function quickchart(key) {\n",
              "      const quickchartButtonEl =\n",
              "        document.querySelector('#' + key + ' button');\n",
              "      quickchartButtonEl.disabled = true;  // To prevent multiple clicks.\n",
              "      quickchartButtonEl.classList.add('colab-df-spinner');\n",
              "      try {\n",
              "        const charts = await google.colab.kernel.invokeFunction(\n",
              "            'suggestCharts', [key], {});\n",
              "      } catch (error) {\n",
              "        console.error('Error during call to suggestCharts:', error);\n",
              "      }\n",
              "      quickchartButtonEl.classList.remove('colab-df-spinner');\n",
              "      quickchartButtonEl.classList.add('colab-df-quickchart-complete');\n",
              "    }\n",
              "    (() => {\n",
              "      let quickchartButtonEl =\n",
              "        document.querySelector('#df-a22d1ac9-b06f-42ca-9cf1-9d3cdba5c085 button');\n",
              "      quickchartButtonEl.style.display =\n",
              "        google.colab.kernel.accessAllowed ? 'block' : 'none';\n",
              "    })();\n",
              "  </script>\n",
              "</div>\n",
              "    </div>\n",
              "  </div>\n"
            ],
            "application/vnd.google.colaboratory.intrinsic+json": {
              "type": "dataframe",
              "variable_name": "data"
            }
          },
          "metadata": {},
          "execution_count": 3
        }
      ],
      "source": [
        "data = pd.read_csv('/content/data_v5.csv')\n",
        "data.head()"
      ]
    },
    {
      "cell_type": "code",
      "source": [
        "data.columns"
      ],
      "metadata": {
        "colab": {
          "base_uri": "https://localhost:8080/"
        },
        "id": "Vu-9vEZjm-7q",
        "outputId": "c97450f2-f351-40ca-cabf-562f70138239"
      },
      "execution_count": 4,
      "outputs": [
        {
          "output_type": "execute_result",
          "data": {
            "text/plain": [
              "Index(['Unnamed: 0', 'title', 'age_rating', 'mac_support', 'linux_support',\n",
              "       'awards', 'overall_review_%', 'overall_review_count', 'Strategy',\n",
              "       'Racing', 'Action', 'Early Access', 'Software Training',\n",
              "       'Audio Production', 'Utilities', 'Education', 'Game Development',\n",
              "       'Sports', 'Animation & Modeling', 'Web Publishing', 'RPG', 'Simulation',\n",
              "       'Video Production', 'Adventure', 'Design & Illustration',\n",
              "       'Massively Multiplayer', 'Free to Play', 'Indie', 'Movie', 'Casual',\n",
              "       'LAN Co-op', 'VR Only', 'Remote Play on TV', 'Profile Features Limited',\n",
              "       'Remote Play on Phone', 'Online Co-op', 'VR Supported',\n",
              "       'Remote Play Together', 'SteamVR Collectibles', 'HDR available',\n",
              "       'Steam Turn Notifications', 'Online PvP', 'Valve Anti-Cheat enabled',\n",
              "       'Commentary available', 'LAN PvP', 'Single-player',\n",
              "       'Captions available', 'Steam Leaderboards',\n",
              "       'Cross-Platform Multiplayer', 'Mods',\n",
              "       'Steam is learning about this game', 'Mods (require HL2)',\n",
              "       'Includes level editor', 'Tracked Controller Support',\n",
              "       'Shared/Split Screen PvP', 'Family Sharing', 'Remote Play on Tablet',\n",
              "       'Stats', 'Steam Cloud', 'MMO', 'In-App Purchases',\n",
              "       'Steam Trading Cards', 'Shared/Split Screen Co-op',\n",
              "       'Includes Source SDK', 'Steam Workshop', 'Steam Achievements',\n",
              "       'overall_review_Mixed', 'overall_review_Mostly Negative',\n",
              "       'overall_review_Mostly Positive', 'overall_review_Negative',\n",
              "       'overall_review_Overwhelmingly Positive', 'overall_review_Positive',\n",
              "       'overall_review_Very Negative', 'overall_review_Very Positive',\n",
              "       'discounted_price_category_Bin_0', 'discounted_price_category_Bin_1',\n",
              "       'discounted_price_category_Bin_2', 'discounted_price_category_Bin_3',\n",
              "       'dlc_available_category_Bin_0', 'release_year_category_Bin_1',\n",
              "       'release_year_category_Bin_2', 'release_year_category_Bin_3',\n",
              "       'release_year_category_Bin_4',\n",
              "       'average_developer_rating_category_Bin_1',\n",
              "       'average_developer_rating_category_Bin_2',\n",
              "       'average_developer_rating_category_Bin_3',\n",
              "       'average_developer_rating_category_Bin_4',\n",
              "       'average_publisher_rating_category_Bin_1',\n",
              "       'average_publisher_rating_category_Bin_2',\n",
              "       'average_publisher_rating_category_Bin_3',\n",
              "       'average_publisher_rating_category_Bin_4'],\n",
              "      dtype='object')"
            ]
          },
          "metadata": {},
          "execution_count": 4
        }
      ]
    },
    {
      "cell_type": "code",
      "source": [
        "data = data.drop(columns=['Unnamed: 0'])"
      ],
      "metadata": {
        "id": "Dq-tVebhnJFt"
      },
      "execution_count": 5,
      "outputs": []
    },
    {
      "cell_type": "markdown",
      "source": [
        "Drop the title column because it is irrelevant, as it shouldn't play any role on the rating of the game."
      ],
      "metadata": {
        "id": "_TK1He93uFo_"
      }
    },
    {
      "cell_type": "code",
      "source": [
        "data = data.drop('title', axis=1)"
      ],
      "metadata": {
        "id": "Rde0EhSuuPDA"
      },
      "execution_count": 6,
      "outputs": []
    },
    {
      "cell_type": "markdown",
      "source": [
        "## Model Creation"
      ],
      "metadata": {
        "id": "SwXznMkKuQtv"
      }
    },
    {
      "cell_type": "markdown",
      "source": [
        "Import the tools:"
      ],
      "metadata": {
        "id": "J3QGwqhHuWI9"
      }
    },
    {
      "cell_type": "code",
      "source": [
        "from sklearn.model_selection import train_test_split\n",
        "from sklearn.linear_model import LinearRegression\n",
        "from sklearn.tree import DecisionTreeRegressor\n",
        "from sklearn.ensemble import RandomForestRegressor, GradientBoostingRegressor\n",
        "from sklearn.svm import SVR\n",
        "from sklearn.metrics import mean_absolute_error, mean_squared_error, r2_score"
      ],
      "metadata": {
        "id": "TZHqkFnPuWf_"
      },
      "execution_count": 7,
      "outputs": []
    },
    {
      "cell_type": "markdown",
      "source": [
        "Split the dataset into train set and test set."
      ],
      "metadata": {
        "id": "uHgKLDWdubzq"
      }
    },
    {
      "cell_type": "code",
      "source": [
        "X = data.drop('overall_review_%', axis=1)\n",
        "y = data['overall_review_%']\n",
        "X_train, X_test, y_train, y_test = train_test_split(X, y, test_size=0.2, random_state=42)"
      ],
      "metadata": {
        "id": "a4AJak8UuZwQ"
      },
      "execution_count": 8,
      "outputs": []
    },
    {
      "cell_type": "markdown",
      "source": [
        "Train the Linear Regression Model:"
      ],
      "metadata": {
        "id": "eYKSA0yyw8VY"
      }
    },
    {
      "cell_type": "code",
      "source": [
        "model = LinearRegression()\n",
        "\n",
        "model.fit(X_train, y_train)\n",
        "y_pred = model.predict(X_test)\n",
        "\n",
        "mae = mean_absolute_error(y_test, y_pred)\n",
        "mse = mean_squared_error(y_test, y_pred)\n",
        "r2 = r2_score(y_test, y_pred)"
      ],
      "metadata": {
        "id": "4jKPESsNw-o6"
      },
      "execution_count": 9,
      "outputs": []
    },
    {
      "cell_type": "code",
      "source": [
        "print('Mean Absolute Error: ', mae)\n",
        "print('Mean Squared Error: ', mse)\n",
        "print('R-squared: ', r2)"
      ],
      "metadata": {
        "colab": {
          "base_uri": "https://localhost:8080/"
        },
        "id": "yQMpZkn7xMJy",
        "outputId": "bde65337-2e3e-426d-d83b-b242857209cb"
      },
      "execution_count": 10,
      "outputs": [
        {
          "output_type": "stream",
          "name": "stdout",
          "text": [
            "Mean Absolute Error:  4.334931058905101\n",
            "Mean Squared Error:  29.77910271972746\n",
            "R-squared:  0.9045143302722536\n"
          ]
        }
      ]
    },
    {
      "cell_type": "markdown",
      "source": [
        "Train the Decision Tree Regressor Model:"
      ],
      "metadata": {
        "id": "iM67dTZ4xkAn"
      }
    },
    {
      "cell_type": "code",
      "source": [
        "model = DecisionTreeRegressor(random_state=42)\n",
        "\n",
        "model.fit(X_train, y_train)\n",
        "y_pred = model.predict(X_test)\n",
        "\n",
        "mae = mean_absolute_error(y_test, y_pred)\n",
        "mse = mean_squared_error(y_test, y_pred)\n",
        "r2 = r2_score(y_test, y_pred)"
      ],
      "metadata": {
        "id": "Dy9jogQExjcF"
      },
      "execution_count": 11,
      "outputs": []
    },
    {
      "cell_type": "code",
      "source": [
        "print('Mean Absolute Error: ', mae)\n",
        "print('Mean Squared Error: ', mse)\n",
        "print('R-squared: ', r2)"
      ],
      "metadata": {
        "colab": {
          "base_uri": "https://localhost:8080/"
        },
        "id": "FnLRn3TyxphS",
        "outputId": "fffd1c78-8ab2-4c4d-ae3c-1fdf7dc53731"
      },
      "execution_count": 12,
      "outputs": [
        {
          "output_type": "stream",
          "name": "stdout",
          "text": [
            "Mean Absolute Error:  5.3176275691104875\n",
            "Mean Squared Error:  51.81745543621306\n",
            "R-squared:  0.8338491094751245\n"
          ]
        }
      ]
    },
    {
      "cell_type": "markdown",
      "source": [
        "Train the Random Forest Regressor Model:"
      ],
      "metadata": {
        "id": "4jUty8MPxxoq"
      }
    },
    {
      "cell_type": "code",
      "source": [
        "model = RandomForestRegressor(n_estimators=100, random_state=42)\n",
        "\n",
        "model.fit(X_train, y_train)\n",
        "y_pred = model.predict(X_test)\n",
        "\n",
        "mae = mean_absolute_error(y_test, y_pred)\n",
        "mse = mean_squared_error(y_test, y_pred)\n",
        "r2 = r2_score(y_test, y_pred)"
      ],
      "metadata": {
        "id": "eVkDgrGJx0mL"
      },
      "execution_count": 13,
      "outputs": []
    },
    {
      "cell_type": "code",
      "source": [
        "print('Mean Absolute Error: ', mae)\n",
        "print('Mean Squared Error: ', mse)\n",
        "print('R-squared: ', r2)"
      ],
      "metadata": {
        "colab": {
          "base_uri": "https://localhost:8080/"
        },
        "id": "3Xs_3hlVx5YR",
        "outputId": "6d798476-d59e-444d-b73d-931fda49053a"
      },
      "execution_count": 14,
      "outputs": [
        {
          "output_type": "stream",
          "name": "stdout",
          "text": [
            "Mean Absolute Error:  4.225814834190285\n",
            "Mean Squared Error:  30.351263801461958\n",
            "R-squared:  0.9026797154218411\n"
          ]
        }
      ]
    },
    {
      "cell_type": "markdown",
      "source": [
        "Train the Gradient Boosting Regressor Model:"
      ],
      "metadata": {
        "id": "Enxg3usbx_Nb"
      }
    },
    {
      "cell_type": "code",
      "source": [
        "model = GradientBoostingRegressor(n_estimators=100, random_state=42)\n",
        "\n",
        "model.fit(X_train, y_train)\n",
        "y_pred = model.predict(X_test)\n",
        "\n",
        "mae = mean_absolute_error(y_test, y_pred)\n",
        "mse = mean_squared_error(y_test, y_pred)\n",
        "r2 = r2_score(y_test, y_pred)"
      ],
      "metadata": {
        "id": "y6YPUAYYyEPq"
      },
      "execution_count": 15,
      "outputs": []
    },
    {
      "cell_type": "code",
      "source": [
        "print('Mean Absolute Error: ', mae)\n",
        "print('Mean Squared Error: ', mse)\n",
        "print('R-squared: ', r2)"
      ],
      "metadata": {
        "colab": {
          "base_uri": "https://localhost:8080/"
        },
        "id": "z3Pm447GyJRM",
        "outputId": "942345af-c78a-4ad2-8f0a-1ce82bc02125"
      },
      "execution_count": 16,
      "outputs": [
        {
          "output_type": "stream",
          "name": "stdout",
          "text": [
            "Mean Absolute Error:  4.219656524007711\n",
            "Mean Squared Error:  29.616240776673934\n",
            "R-squared:  0.9050365414970842\n"
          ]
        }
      ]
    },
    {
      "cell_type": "markdown",
      "source": [
        "Create a Neural Network Model:"
      ],
      "metadata": {
        "id": "_lZn84z5yVFu"
      }
    },
    {
      "cell_type": "code",
      "source": [
        "import tensorflow as tf\n",
        "from tensorflow.keras.models import Sequential\n",
        "from tensorflow.keras.layers import Dense"
      ],
      "metadata": {
        "id": "JBJzzo8o4dFH"
      },
      "execution_count": 17,
      "outputs": []
    },
    {
      "cell_type": "code",
      "source": [
        "def create_neural_network():\n",
        "    model = Sequential()\n",
        "    model.add(Dense(500, input_dim=X_train.shape[1], activation='relu'))\n",
        "    model.add(Dense(500, activation='relu'))\n",
        "    model.add(Dense(250, activation='relu'))\n",
        "    model.add(Dense(1, activation='relu'))\n",
        "    model.compile(optimizer='adam', loss='mean_squared_error')\n",
        "    return model"
      ],
      "metadata": {
        "id": "qQbFMto91szG"
      },
      "execution_count": 18,
      "outputs": []
    },
    {
      "cell_type": "code",
      "source": [
        "nn_model = create_neural_network()\n",
        "history = nn_model.fit(X_train, y_train, epochs=100, batch_size=32, verbose=0, validation_split=0.2)\n",
        "\n",
        "nn_pred = nn_model.predict(X_test).flatten()\n",
        "mae = mean_absolute_error(y_test, nn_pred)\n",
        "mse = mean_squared_error(y_test, nn_pred)\n",
        "r2 = r2_score(y_test, nn_pred)"
      ],
      "metadata": {
        "id": "RxUFhLqg3iLo",
        "colab": {
          "base_uri": "https://localhost:8080/"
        },
        "outputId": "20ebf64e-0651-4759-c6e8-583afdbb6beb"
      },
      "execution_count": 19,
      "outputs": [
        {
          "output_type": "stream",
          "name": "stdout",
          "text": [
            "250/250 [==============================] - 1s 3ms/step\n"
          ]
        }
      ]
    },
    {
      "cell_type": "code",
      "source": [
        "nn_model.summary()"
      ],
      "metadata": {
        "colab": {
          "base_uri": "https://localhost:8080/"
        },
        "id": "WBzHsgvZ5iky",
        "outputId": "0d9be5fa-944e-4cc0-e543-5a7e8118f4a1"
      },
      "execution_count": 20,
      "outputs": [
        {
          "output_type": "stream",
          "name": "stdout",
          "text": [
            "Model: \"sequential\"\n",
            "_________________________________________________________________\n",
            " Layer (type)                Output Shape              Param #   \n",
            "=================================================================\n",
            " dense (Dense)               (None, 500)               44500     \n",
            "                                                                 \n",
            " dense_1 (Dense)             (None, 500)               250500    \n",
            "                                                                 \n",
            " dense_2 (Dense)             (None, 250)               125250    \n",
            "                                                                 \n",
            " dense_3 (Dense)             (None, 1)                 251       \n",
            "                                                                 \n",
            "=================================================================\n",
            "Total params: 420501 (1.60 MB)\n",
            "Trainable params: 420501 (1.60 MB)\n",
            "Non-trainable params: 0 (0.00 Byte)\n",
            "_________________________________________________________________\n"
          ]
        }
      ]
    },
    {
      "cell_type": "code",
      "source": [
        "print('Mean Absolute Error: ', mae)\n",
        "print('Mean Squared Error: ', mse)\n",
        "print('R-squared: ', r2)"
      ],
      "metadata": {
        "colab": {
          "base_uri": "https://localhost:8080/"
        },
        "id": "ZYckq0wRyeAy",
        "outputId": "42f5ffe1-2721-4e94-f126-3e77b34f54c0"
      },
      "execution_count": 21,
      "outputs": [
        {
          "output_type": "stream",
          "name": "stdout",
          "text": [
            "Mean Absolute Error:  77.2148667250657\n",
            "Mean Squared Error:  6274.005506194469\n",
            "R-squared:  -19.11738309488025\n"
          ]
        }
      ]
    },
    {
      "cell_type": "code",
      "source": [
        "plt.figure(figsize=(12, 6))\n",
        "plt.plot(history.history['loss'], label='Training Loss')\n",
        "plt.plot(history.history['val_loss'], label='Validation Loss')\n",
        "plt.title('Neural Network Training History')\n",
        "plt.xlabel('Epochs')\n",
        "plt.ylabel('Loss')\n",
        "plt.legend()\n",
        "plt.show()"
      ],
      "metadata": {
        "colab": {
          "base_uri": "https://localhost:8080/",
          "height": 564
        },
        "id": "gAY0kzYa3v0z",
        "outputId": "6c40761f-720f-4cd5-e738-712a6858ee02"
      },
      "execution_count": 22,
      "outputs": [
        {
          "output_type": "display_data",
          "data": {
            "text/plain": [
              "<Figure size 1200x600 with 1 Axes>"
            ],
            "image/png": "[encoded data removed]"
          },
          "metadata": {}
        }
      ]
    },
    {
      "cell_type": "markdown",
      "source": [
        "## Model Creation Conclusion:"
      ],
      "metadata": {
        "id": "b2UwU6U6Db03"
      }
    },
    {
      "cell_type": "markdown",
      "source": [
        "The part involved building several regression models to predict the overall review percentage of games based on various features extracted from the dataset."
      ],
      "metadata": {
        "id": "koy-VVatDfSL"
      }
    },
    {
      "cell_type": "markdown",
      "source": [
        "* Linear Regression: Achieved a Mean Absolute Error (MAE) of 4.33, Mean Squared Error (MSE) of 29.78, and an R-squared (R²) of 0.90. This model showed a high level of accuracy and explained 90% of the variance in the overall review percentage.\n",
        "\n",
        "* Decision Tree Regressor: Achieved an MAE of 5.32, MSE of 51.82, and an R² of 0.83. While the performance was decent, it was not as accurate as Linear Regression.\n",
        "\n",
        "* Random Forest Regressor: Achieved an MAE of 4.23, MSE of 30.35, and an R² of 0.90. This model performed similarly to Linear Regression, indicating strong predictive power.\n",
        "* Gradient Boosting Regressor: Achieved an MAE of 4.22, MSE of 29.62, and an R² of 0.91. This model had the best performance, slightly outperforming the Random Forest and Linear Regression models.\n",
        "\n",
        "* Neural Network Model: Achieved an MAE of 77.21, MSE of 6274.01, and an R² of -19.12. The neural network model significantly underperformed compared to other models, likely due to overfitting or suboptimal hyperparameters."
      ],
      "metadata": {
        "id": "l-_0QOaVDmsy"
      }
    }
  ]
}